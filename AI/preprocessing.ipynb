{
 "metadata": {
  "language_info": {
   "codemirror_mode": {
    "name": "ipython",
    "version": 3
   },
   "file_extension": ".py",
   "mimetype": "text/x-python",
   "name": "python",
   "nbconvert_exporter": "python",
   "pygments_lexer": "ipython3",
   "version": "3.9.4"
  },
  "orig_nbformat": 4,
  "kernelspec": {
   "name": "python3",
   "display_name": "Python 3.9.4 64-bit"
  },
  "interpreter": {
   "hash": "ddcec88e020af779e10f40e45778a5161119624e0ef81a5eabc1720c12dd07fe"
  }
 },
 "nbformat": 4,
 "nbformat_minor": 2,
 "cells": [
  {
   "cell_type": "code",
   "execution_count": 341,
   "metadata": {},
   "outputs": [],
   "source": [
    "import pandas as pd\n"
   ]
  },
  {
   "cell_type": "code",
   "execution_count": 342,
   "metadata": {},
   "outputs": [],
   "source": [
    "df = pd.read_csv('../Crawler/data/result.csv', encoding='cp949')"
   ]
  },
  {
   "cell_type": "code",
   "execution_count": 343,
   "metadata": {},
   "outputs": [],
   "source": [
    "df = df[['lyrics','mood1','mood2','mood3']]"
   ]
  },
  {
   "cell_type": "code",
   "execution_count": 344,
   "metadata": {},
   "outputs": [
    {
     "output_type": "execute_result",
     "data": {
      "text/plain": [
       "                                               lyrics  mood1  mood2  mood3\n",
       "0   그 날을 잊지 못해 babe\\n날 보며 환히 웃던 \\n너의 미소에\\n홀린 듯 \\nI...      2      7   16.0\n",
       "1   I got my peaches out in Georgia\\nOh yeah shit\\...     11     16   18.0\n",
       "2   나리는 꽃가루에 눈이 따끔해 (아야)\\n눈물이 고여도 꾹 참을래\\n내 마음 한켠 비...      0      1    9.0\n",
       "3   넌 운전만 해\\n계속 운전만 해\\n왜 이리 된 걸까 우리 사이가\\n갑자기 어색해졌단...      5     11   18.0\n",
       "4   세상의 모서리\\n구부정하게 커버린\\n골칫거리 outsider\\n\\n걸음걸이, 옷차림...      1     11   19.0\n",
       "..                                                ...    ...    ...    ...\n",
       "95  술 한잔해요 날씨가 쌀쌀하니까\\n따끈따끈 국물에\\n소주 한잔 어때요\\n잘 지내니 지...     17     15   24.0\n",
       "96  나를 알게 되어서 기뻤는지\\n나를 사랑해서 좋았었는지\\n우릴 위해 불렀던 지나간 노...      1      3   24.0\n",
       "97  딩가딩가할래\\n친구들 모아\\n한잔 할래\\nDrink like a like a lik...     12      7   20.0\n",
       "98  욕을 하도 먹어 체했어 하도\\n서러워도 어쩌겠어 I do\\n모두들 미워하느라 애썼네...      5      6   19.0\n",
       "99  희망을 걸어\\n모두가 날더러\\n더 힘들 거라고\\n얘기했어 그래서 뭐\\n난 너를 믿어...      1     24   15.0\n",
       "\n",
       "[100 rows x 4 columns]"
      ],
      "text/html": "<div>\n<style scoped>\n    .dataframe tbody tr th:only-of-type {\n        vertical-align: middle;\n    }\n\n    .dataframe tbody tr th {\n        vertical-align: top;\n    }\n\n    .dataframe thead th {\n        text-align: right;\n    }\n</style>\n<table border=\"1\" class=\"dataframe\">\n  <thead>\n    <tr style=\"text-align: right;\">\n      <th></th>\n      <th>lyrics</th>\n      <th>mood1</th>\n      <th>mood2</th>\n      <th>mood3</th>\n    </tr>\n  </thead>\n  <tbody>\n    <tr>\n      <th>0</th>\n      <td>그 날을 잊지 못해 babe\\n날 보며 환히 웃던 \\n너의 미소에\\n홀린 듯 \\nI...</td>\n      <td>2</td>\n      <td>7</td>\n      <td>16.0</td>\n    </tr>\n    <tr>\n      <th>1</th>\n      <td>I got my peaches out in Georgia\\nOh yeah shit\\...</td>\n      <td>11</td>\n      <td>16</td>\n      <td>18.0</td>\n    </tr>\n    <tr>\n      <th>2</th>\n      <td>나리는 꽃가루에 눈이 따끔해 (아야)\\n눈물이 고여도 꾹 참을래\\n내 마음 한켠 비...</td>\n      <td>0</td>\n      <td>1</td>\n      <td>9.0</td>\n    </tr>\n    <tr>\n      <th>3</th>\n      <td>넌 운전만 해\\n계속 운전만 해\\n왜 이리 된 걸까 우리 사이가\\n갑자기 어색해졌단...</td>\n      <td>5</td>\n      <td>11</td>\n      <td>18.0</td>\n    </tr>\n    <tr>\n      <th>4</th>\n      <td>세상의 모서리\\n구부정하게 커버린\\n골칫거리 outsider\\n\\n걸음걸이, 옷차림...</td>\n      <td>1</td>\n      <td>11</td>\n      <td>19.0</td>\n    </tr>\n    <tr>\n      <th>...</th>\n      <td>...</td>\n      <td>...</td>\n      <td>...</td>\n      <td>...</td>\n    </tr>\n    <tr>\n      <th>95</th>\n      <td>술 한잔해요 날씨가 쌀쌀하니까\\n따끈따끈 국물에\\n소주 한잔 어때요\\n잘 지내니 지...</td>\n      <td>17</td>\n      <td>15</td>\n      <td>24.0</td>\n    </tr>\n    <tr>\n      <th>96</th>\n      <td>나를 알게 되어서 기뻤는지\\n나를 사랑해서 좋았었는지\\n우릴 위해 불렀던 지나간 노...</td>\n      <td>1</td>\n      <td>3</td>\n      <td>24.0</td>\n    </tr>\n    <tr>\n      <th>97</th>\n      <td>딩가딩가할래\\n친구들 모아\\n한잔 할래\\nDrink like a like a lik...</td>\n      <td>12</td>\n      <td>7</td>\n      <td>20.0</td>\n    </tr>\n    <tr>\n      <th>98</th>\n      <td>욕을 하도 먹어 체했어 하도\\n서러워도 어쩌겠어 I do\\n모두들 미워하느라 애썼네...</td>\n      <td>5</td>\n      <td>6</td>\n      <td>19.0</td>\n    </tr>\n    <tr>\n      <th>99</th>\n      <td>희망을 걸어\\n모두가 날더러\\n더 힘들 거라고\\n얘기했어 그래서 뭐\\n난 너를 믿어...</td>\n      <td>1</td>\n      <td>24</td>\n      <td>15.0</td>\n    </tr>\n  </tbody>\n</table>\n<p>100 rows × 4 columns</p>\n</div>"
     },
     "metadata": {},
     "execution_count": 344
    }
   ],
   "source": [
    "df"
   ]
  },
  {
   "cell_type": "code",
   "execution_count": 345,
   "metadata": {},
   "outputs": [],
   "source": [
    "import re\n",
    "import numpy as np\n",
    "\n",
    "def lyrics_preprocessing(string):\n",
    "    except_string = ['\\n','\\'', '(',')','’','-','‘',',','\"','.','?','!','~','<','간주']\n",
    "    for estr in except_string:\n",
    "        string = string.replace(estr,' ')\n",
    "    string = re.compile('[a-zA-Z]*').sub('', string)\n",
    "    string = re.compile('(([나]{2,}|[우]{2,}|[음 ]{2,}))').sub(' ', string)\n",
    "    string = re.compile('([0-9]+\\s+)').sub(' ', string)\n",
    "    string = re.compile('(\\s+)').sub(' ', string)\n",
    "    if len(string.rstrip().lstrip()) == 0:\n",
    "        return np.nan \n",
    "    return string.rstrip().lstrip()\n",
    "\n"
   ]
  },
  {
   "cell_type": "code",
   "execution_count": 346,
   "metadata": {
    "tags": []
   },
   "outputs": [],
   "source": [
    "df['lyrics'] = df['lyrics'].map(lambda x: lyrics_preprocessing(x))"
   ]
  },
  {
   "cell_type": "code",
   "execution_count": 347,
   "metadata": {},
   "outputs": [
    {
     "output_type": "execute_result",
     "data": {
      "text/plain": [
       "'그 날을 잊지 못해 날 보며 환히 웃던 너의 미소에 홀린 듯 너무 쪽팔림에 난 그저 한마디 말도 못해 너의 눈빛은 날 자꾸 네 곁을 맴돌게 해 굳게 닫힌 내 맘이 어느새 무너져버려 온통 너의 생각뿐이야 나도 미치겠어 너무 보고 싶어 매일 매일 매일 자꾸 초라해지잖아 내 모습이 그대여 내게 말해줘 사랑한다고 하루가 멀다 하고 기다리고 있잖아 기다리고 있잖아 오늘 밤이 가기 전에 조금 더 다가와 줘 대체 뭘 고민해 빨리 안아 아닌 척 모르는 척 하다가 늦게 놓치고 후회 말아 너의 눈빛은 날 자꾸 네 곁을 맴돌게 해 굳게 닫힌 내 맘이 어느새 무너져버려 온통 너의 생각뿐이야 나도 미치겠어 너무 보고 싶어 매일 매일 매일 자꾸 초라해지잖아 내 모습이 그대여 내게 말해줘 사랑한다고 하루가 멀다 하고 기다리고 있잖아 이제 와 숨기려 하지 마요 그대여 아닌 척하지 마요 온종일 난 그대 생각에 잠긴 채로 난 이대로 기다리고 있어요 하루가 멀다 하고 기다리고 있잖아 기다리고 있잖아'"
      ]
     },
     "metadata": {},
     "execution_count": 347
    }
   ],
   "source": [
    "df['lyrics'][0]"
   ]
  },
  {
   "cell_type": "code",
   "execution_count": 348,
   "metadata": {},
   "outputs": [],
   "source": [
    "df = df.dropna()"
   ]
  },
  {
   "cell_type": "code",
   "execution_count": 349,
   "metadata": {},
   "outputs": [
    {
     "output_type": "stream",
     "name": "stderr",
     "text": [
      "C:\\Users\\김수현\\AppData\\Local\\Programs\\Python\\Python39\\lib\\site-packages\\pandas\\core\\generic.py:5494: SettingWithCopyWarning: \nA value is trying to be set on a copy of a slice from a DataFrame.\nTry using .loc[row_indexer,col_indexer] = value instead\n\nSee the caveats in the documentation: https://pandas.pydata.org/pandas-docs/stable/user_guide/indexing.html#returning-a-view-versus-a-copy\n  self[name] = value\n"
     ]
    }
   ],
   "source": [
    "df.mood3 = df.mood3.astype('int64')"
   ]
  },
  {
   "cell_type": "code",
   "execution_count": 350,
   "metadata": {},
   "outputs": [],
   "source": [
    "mood1_df = df[['lyrics','mood1']]\n",
    "mood2_df = df[['lyrics','mood2']]\n",
    "mood3_df = df[['lyrics','mood3']]"
   ]
  },
  {
   "cell_type": "code",
   "execution_count": 351,
   "metadata": {},
   "outputs": [],
   "source": [
    "mood1_df = mood1_df.rename(columns={\"mood1\":'mood'})\n",
    "mood2_df = mood2_df.rename(columns={\"mood2\":'mood'})\n",
    "mood3_df = mood3_df.rename(columns={\"mood3\":'mood'})"
   ]
  },
  {
   "cell_type": "code",
   "execution_count": 352,
   "metadata": {},
   "outputs": [
    {
     "output_type": "execute_result",
     "data": {
      "text/plain": [
       "                                               lyrics  mood\n",
       "0   그 날을 잊지 못해 날 보며 환히 웃던 너의 미소에 홀린 듯 너무 쪽팔림에 난 그저...    16\n",
       "2   나리는 꽃가루에 눈이 따끔해 아야 눈물이 고여도 꾹 참을래 내 마 한켠 비밀스런 오...     9\n",
       "3   넌 운전만 해 계속 운전만 해 왜 이리 된 걸까 우리 사이가 갑자기 어색해졌단 걸 ...    18\n",
       "4   세상의 모서리 구부정하게 커버린 골칫거리 걸음걸이 옷차림 이어폰 너머 악까지 다 넌...    19\n",
       "5   어쩜 살아가다 보면 한 번은 날 찾을지 몰라 나 그 기대 하나로 오늘도 힘겹게 버틴...    13\n",
       "..                                                ...   ...\n",
       "95  술 한잔해요 날씨가 쌀쌀하니까 따끈따끈 국물에 소주 한잔 어때요 잘 지내니 지친 하...    24\n",
       "96  나를 알게 되어서 기뻤는지 나를 사랑해서 좋았었는지 우릴 위해 불렀던 지나간 노래들...    24\n",
       "97  딩가딩가할래 친구들 모아 한잔 할래 딩가딩 링가링 노는 게 좋아 딩가딩가 딩가딩가 ...    20\n",
       "98  욕을 하도 먹어 체했어 하도 서러워도 어쩌겠어 모두들 미워하느라 애썼네 날 무너뜨리...    19\n",
       "99  희망을 걸어 모두가 날더러 더 힘들 거라고 얘기했어 그래서 뭐 난 너를 믿어 추운 ...    15\n",
       "\n",
       "[87 rows x 2 columns]"
      ],
      "text/html": "<div>\n<style scoped>\n    .dataframe tbody tr th:only-of-type {\n        vertical-align: middle;\n    }\n\n    .dataframe tbody tr th {\n        vertical-align: top;\n    }\n\n    .dataframe thead th {\n        text-align: right;\n    }\n</style>\n<table border=\"1\" class=\"dataframe\">\n  <thead>\n    <tr style=\"text-align: right;\">\n      <th></th>\n      <th>lyrics</th>\n      <th>mood</th>\n    </tr>\n  </thead>\n  <tbody>\n    <tr>\n      <th>0</th>\n      <td>그 날을 잊지 못해 날 보며 환히 웃던 너의 미소에 홀린 듯 너무 쪽팔림에 난 그저...</td>\n      <td>16</td>\n    </tr>\n    <tr>\n      <th>2</th>\n      <td>나리는 꽃가루에 눈이 따끔해 아야 눈물이 고여도 꾹 참을래 내 마 한켠 비밀스런 오...</td>\n      <td>9</td>\n    </tr>\n    <tr>\n      <th>3</th>\n      <td>넌 운전만 해 계속 운전만 해 왜 이리 된 걸까 우리 사이가 갑자기 어색해졌단 걸 ...</td>\n      <td>18</td>\n    </tr>\n    <tr>\n      <th>4</th>\n      <td>세상의 모서리 구부정하게 커버린 골칫거리 걸음걸이 옷차림 이어폰 너머 악까지 다 넌...</td>\n      <td>19</td>\n    </tr>\n    <tr>\n      <th>5</th>\n      <td>어쩜 살아가다 보면 한 번은 날 찾을지 몰라 나 그 기대 하나로 오늘도 힘겹게 버틴...</td>\n      <td>13</td>\n    </tr>\n    <tr>\n      <th>...</th>\n      <td>...</td>\n      <td>...</td>\n    </tr>\n    <tr>\n      <th>95</th>\n      <td>술 한잔해요 날씨가 쌀쌀하니까 따끈따끈 국물에 소주 한잔 어때요 잘 지내니 지친 하...</td>\n      <td>24</td>\n    </tr>\n    <tr>\n      <th>96</th>\n      <td>나를 알게 되어서 기뻤는지 나를 사랑해서 좋았었는지 우릴 위해 불렀던 지나간 노래들...</td>\n      <td>24</td>\n    </tr>\n    <tr>\n      <th>97</th>\n      <td>딩가딩가할래 친구들 모아 한잔 할래 딩가딩 링가링 노는 게 좋아 딩가딩가 딩가딩가 ...</td>\n      <td>20</td>\n    </tr>\n    <tr>\n      <th>98</th>\n      <td>욕을 하도 먹어 체했어 하도 서러워도 어쩌겠어 모두들 미워하느라 애썼네 날 무너뜨리...</td>\n      <td>19</td>\n    </tr>\n    <tr>\n      <th>99</th>\n      <td>희망을 걸어 모두가 날더러 더 힘들 거라고 얘기했어 그래서 뭐 난 너를 믿어 추운 ...</td>\n      <td>15</td>\n    </tr>\n  </tbody>\n</table>\n<p>87 rows × 2 columns</p>\n</div>"
     },
     "metadata": {},
     "execution_count": 352
    }
   ],
   "source": [
    "mood3_df"
   ]
  },
  {
   "cell_type": "code",
   "execution_count": 353,
   "metadata": {},
   "outputs": [],
   "source": [
    "df = mood1_df + mood2_df + mood3_df"
   ]
  },
  {
   "cell_type": "code",
   "execution_count": 354,
   "metadata": {},
   "outputs": [],
   "source": [
    "df = pd.concat([mood1_df, mood2_df, mood3_df])"
   ]
  },
  {
   "cell_type": "code",
   "execution_count": 355,
   "metadata": {},
   "outputs": [],
   "source": [
    "df = df[['lyrics','mood']]"
   ]
  },
  {
   "cell_type": "code",
   "execution_count": 356,
   "metadata": {},
   "outputs": [],
   "source": [
    "df.to_csv('data/result.csv', header=None, index=False)"
   ]
  },
  {
   "cell_type": "code",
   "execution_count": 357,
   "metadata": {},
   "outputs": [
    {
     "output_type": "execute_result",
     "data": {
      "text/plain": [
       "1"
      ]
     },
     "metadata": {},
     "execution_count": 357
    }
   ],
   "source": [
    "1"
   ]
  },
  {
   "cell_type": "code",
   "execution_count": null,
   "metadata": {},
   "outputs": [],
   "source": []
  }
 ]
}